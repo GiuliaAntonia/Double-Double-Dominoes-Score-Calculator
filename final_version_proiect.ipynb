{
 "cells": [
  {
   "cell_type": "code",
   "execution_count": null,
   "outputs": [],
   "source": [
    "# VERSIUNEA FINALA A PROIECTULUI"
   ],
   "metadata": {
    "collapsed": false
   },
   "id": "7902d58109e51034"
  },
  {
   "cell_type": "code",
   "execution_count": null,
   "outputs": [],
   "source": [
    "# !! Celulele cu cod se reuleaza in ordine "
   ],
   "metadata": {
    "collapsed": false
   },
   "id": "681b3c6142225b1f"
  },
  {
   "cell_type": "code",
   "execution_count": 35,
   "outputs": [],
   "source": [
    "import cv2 as cv\n",
    "import numpy as np\n",
    "import os"
   ],
   "metadata": {
    "collapsed": false,
    "ExecuteTime": {
     "end_time": "2023-12-05T20:54:50.475383400Z",
     "start_time": "2023-12-05T20:54:50.465356Z"
    }
   },
   "id": "2e9ec8460532a557"
  },
  {
   "cell_type": "code",
   "execution_count": 36,
   "outputs": [],
   "source": [
    "bottom_left = [ 786, 2877]\n",
    "bottom_right = [2424, 2862]\n",
    "top_left = [ 777, 1211]\n",
    "top_right = [2413, 1212]"
   ],
   "metadata": {
    "collapsed": false,
    "ExecuteTime": {
     "end_time": "2023-12-05T20:54:51.256792400Z",
     "start_time": "2023-12-05T20:54:51.251231200Z"
    }
   },
   "id": "f7f566c49e85f71c"
  },
  {
   "cell_type": "code",
   "execution_count": 37,
   "outputs": [],
   "source": [
    "def get_careu(image):\n",
    "   \n",
    "    image = cv.cvtColor(image,cv.COLOR_BGR2GRAY)\n",
    "\n",
    "    width = 2000\n",
    "    height = 2000\n",
    "\n",
    "    image_copy = cv.cvtColor(image.copy(),cv.COLOR_GRAY2BGR)\n",
    "    cv.circle(image_copy,tuple(top_left),20,(0,0,255),-1)\n",
    "    cv.circle(image_copy,tuple(top_right),20,(0,0,255),-1)\n",
    "    cv.circle(image_copy,tuple(bottom_left),20,(0,0,255),-1)\n",
    "    cv.circle(image_copy,tuple(bottom_right),20,(0,0,255),-1)\n",
    "\n",
    "    puzzle = np.array([top_left, top_right, bottom_right, bottom_left], dtype='float32')\n",
    "    destination = np.array([[0,0], [width, 0], [width, height], [0, height]], dtype='float32')\n",
    "\n",
    "    M = cv.getPerspectiveTransform(puzzle, destination)\n",
    "    result = cv.warpPerspective(image, M, (width, height))\n",
    "    # result = cv.cvtColor(result,cv.COLOR_BGR2GRAY)\n",
    "\n",
    "    return result"
   ],
   "metadata": {
    "collapsed": false,
    "ExecuteTime": {
     "end_time": "2023-12-05T20:54:51.995309500Z",
     "start_time": "2023-12-05T20:54:51.988215800Z"
    }
   },
   "id": "dabd6d141865aead"
  },
  {
   "cell_type": "code",
   "execution_count": 38,
   "outputs": [],
   "source": [
    "lines_horizontal=[]\n",
    "for i in range(0,2000,133):\n",
    "    l=[]\n",
    "    l.append((0,i))\n",
    "    l.append((1998,i))\n",
    "    lines_horizontal.append(l)"
   ],
   "metadata": {
    "collapsed": false,
    "ExecuteTime": {
     "end_time": "2023-12-05T20:54:52.698657200Z",
     "start_time": "2023-12-05T20:54:52.693629900Z"
    }
   },
   "id": "3628416cf1cc6acb"
  },
  {
   "cell_type": "code",
   "execution_count": 39,
   "outputs": [],
   "source": [
    "lines_vertical=[]\n",
    "for i in range(0,2000,133):\n",
    "    l=[]\n",
    "    l.append((i,0))\n",
    "    l.append((i,1998))\n",
    "    lines_vertical.append(l)"
   ],
   "metadata": {
    "collapsed": false,
    "ExecuteTime": {
     "end_time": "2023-12-05T20:54:53.345211300Z",
     "start_time": "2023-12-05T20:54:53.305264700Z"
    }
   },
   "id": "dbb42abede7b8ee9"
  },
  {
   "cell_type": "code",
   "execution_count": 40,
   "outputs": [],
   "source": [
    "def clasifica_cifra(patch, path):\n",
    "        maxi=-np.inf\n",
    "        poz=-1\n",
    "        file_poz = ''\n",
    "        files=os.listdir(path)\n",
    "        for file in files:\n",
    "            img_template=cv.imread(path+file)\n",
    "            img_template= cv.cvtColor(img_template,cv.COLOR_BGR2GRAY)\n",
    "            thresh, binary = cv.threshold(img_template, 150, 255, cv.THRESH_BINARY)\n",
    "            binary_resize = cv.resize(binary, (134,134))\n",
    "            corr = cv.matchTemplate(patch,binary_resize,cv.TM_CCOEFF_NORMED)\n",
    "            corr=np.max(corr)\n",
    "            if corr>maxi:\n",
    "                maxi=corr\n",
    "                file_poz = file\n",
    "                poz=int(file[0])\n",
    "        return poz, file_poz"
   ],
   "metadata": {
    "collapsed": false,
    "ExecuteTime": {
     "end_time": "2023-12-05T20:54:53.996071100Z",
     "start_time": "2023-12-05T20:54:53.985177400Z"
    }
   },
   "id": "initial_id"
  },
  {
   "cell_type": "code",
   "execution_count": 41,
   "outputs": [],
   "source": [
    "def determina_configuratie_careu(thresh,lines_horizontal,lines_vertical):\n",
    "    matrix = np.empty((15,15), dtype='str')\n",
    "    for i in range(len(lines_horizontal)-1):\n",
    "        for j in range(len(lines_vertical)-1):\n",
    "            y_min = lines_vertical[j][0][0] + 10\n",
    "            y_max = lines_vertical[j + 1][1][0] - 10\n",
    "            x_min = lines_horizontal[i][0][1] + 10\n",
    "            x_max = lines_horizontal[i + 1][1][1] - 10\n",
    "            patch = thresh[x_min:x_max, y_min:y_max].copy()\n",
    "            \n",
    "            medie = np.mean(patch)\n",
    "            \n",
    "            if medie > 140:\n",
    "                path = 'templates/all/'\n",
    "                poz, file = clasifica_cifra(patch, path)\n",
    "                if (poz == 7 or poz == 8) and (i == 7 or i == 6) and (j == 7 or j == 8):\n",
    "                    matrix[i][j] = '-'\n",
    "                elif poz == 7 or poz == 8:\n",
    "                    path2 = 'templates/dice faces/'\n",
    "                    matrix[i][j],_ = clasifica_cifra(patch, path2)\n",
    "                else:\n",
    "                    matrix[i][j] = poz\n",
    "            else:\n",
    "                matrix[i][j] = '-'\n",
    "            \n",
    "    return matrix"
   ],
   "metadata": {
    "collapsed": false,
    "ExecuteTime": {
     "end_time": "2023-12-05T20:54:54.787110500Z",
     "start_time": "2023-12-05T20:54:54.754939900Z"
    }
   },
   "id": "4dc5f11a99f7fac5"
  },
  {
   "cell_type": "code",
   "execution_count": 42,
   "outputs": [],
   "source": [
    "# AFISARE IN FISIER\n",
    "def task1_and_task2(img_path, sol_path):\n",
    "    pozitii_piese = []\n",
    "    dict_poz = {1:'A', 2:'B', 3:'C', 4:'D', 5:'E', 6:'F', 7:'G', 8:'H', 9:'I', 10:'J', 11:'K', 12:'L', 13:'M', 14:'N', 15:'O'}\n",
    "    game_number = 1\n",
    "    \n",
    "    files=os.listdir(img_path)\n",
    "    for file in files:\n",
    "        \n",
    "        if game_number != int(file[0]):\n",
    "            game_number = int(file[0])\n",
    "            pozitii_piese = []\n",
    "            \n",
    "        if file[-3:]=='jpg':\n",
    "            img = cv.imread(img_path +'/'+file)\n",
    "            careu = get_careu(img)\n",
    "            \n",
    "            thresh, binary = cv.threshold(careu, 150, 255, cv.THRESH_BINARY)\n",
    "            matrice=determina_configuratie_careu(binary,lines_horizontal,lines_vertical)\n",
    "    \n",
    "            with open(sol_path + '/{f}.txt'.format(f=file[:-4]), 'w') as f:\n",
    "                for i in range(15):\n",
    "                    for j in range(15):\n",
    "                        poz = [(i,j)]\n",
    "                        if matrice[i][j] != '-' and poz not in pozitii_piese:\n",
    "                            f.write(\"{ii}{jj} \".format(ii=i+1, jj=dict_poz[j+1]))\n",
    "                            f.write(\"{nr}\".format(nr=matrice[i][j]))\n",
    "                            f.write(\"\\n\")\n",
    "                            pozitii_piese.append(poz)"
   ],
   "metadata": {
    "collapsed": false,
    "ExecuteTime": {
     "end_time": "2023-12-05T20:54:55.577759400Z",
     "start_time": "2023-12-05T20:54:55.565285700Z"
    }
   },
   "id": "3fb2a8f4e96d7955"
  },
  {
   "cell_type": "code",
   "execution_count": 43,
   "outputs": [],
   "source": [
    "task1_and_task2('antrenare', 'verificare/antrenare')"
   ],
   "metadata": {
    "collapsed": false,
    "ExecuteTime": {
     "end_time": "2023-12-05T20:55:17.695407800Z",
     "start_time": "2023-12-05T20:54:56.817476100Z"
    }
   },
   "id": "e863d0aad5801ffc"
  },
  {
   "cell_type": "code",
   "execution_count": 44,
   "outputs": [],
   "source": [
    "# TASK 3"
   ],
   "metadata": {
    "collapsed": false,
    "ExecuteTime": {
     "end_time": "2023-12-05T20:55:20.125716300Z",
     "start_time": "2023-12-05T20:55:20.115559Z"
    }
   },
   "id": "103c15bdd2d441e5"
  },
  {
   "cell_type": "code",
   "execution_count": 45,
   "outputs": [],
   "source": [
    "score_route = [-1, 1, 2, 3, 4, 5, 6, 0, 2, 5, 3, 4, 6, 2, 2, 0, 3, 5, 4, 1, 6, 2, 4, 5, 5, 0, 6, 3, 4, 2, 0, 1, 5, 1, 3, 4, 4, 4, 5, 0, 6, 3, 5, 4, 1, 3, 2, 0, 0, 1, 1, 2, 3, 6, 3, 5, 2, 1, 0, 6, 6, 5, 2, 1, 2, 5, 0, 3, 3, 5, 0, 6, 1, 4, 0, 6, 3, 5, 1, 4, 2, 6, 2, 3, 1, 6, 5, 6, 2, 0, 4, 0, 1, 6, 4, 4, 1, 6, 6, 3]\n",
    "\n",
    "special_patches = [('1A', 5), ('15A', 5), ('1O', 5), ('15O', 5), ('4A', 4), ('12A', 4), ('6B', 4), ('12B', 4), ('1D', 4), ('15D', 4), ('2F', 4), ('14F', 4), ('2J', 4), ('14J', 4), ('1L', 4), ('15L', 4), ('6N', 4), ('10N', 4), ('4O', 4), ('12O', 4), ('8A', 3), ('3B', 3), ('13B', 3), ('2C', 3), ('14C', 3), ('4D', 3), ('12D', 3), ('1H', 3), ('15H', 3), ('4L', 3), ('12L', 3), ('2M', 3), ('14M', 3), ('3N', 3), ('13N', 3), ('8O', 3), ('5C', 2), ('11C', 2), ('6D', 2), ('10D', 2), ('3E', 2), ('13E', 2), ('4F', 2), ('12F', 2), ('4J', 2), ('12J', 2), ('3K', 2), ('13K', 2), ('6L', 2), ('10L', 2), ('5M', 2), ('11M', 2), ('5E', 1), ('7E', 1), ('9E', 1), ('11E', 1), ('6F', 1), ('10F', 1), ('5G', 1), ('11G', 1), ('5I', 1), ('11I', 1), ('6J', 1), ('10J', 1), ('5K', 1), ('7K', 1), ('9K', 1), ('11K', 1)]"
   ],
   "metadata": {
    "collapsed": false,
    "ExecuteTime": {
     "end_time": "2023-12-05T20:55:21.497315400Z",
     "start_time": "2023-12-05T20:55:21.485334200Z"
    }
   },
   "id": "3f58a63ecab87154"
  },
  {
   "cell_type": "code",
   "execution_count": 46,
   "outputs": [],
   "source": [
    "# extrag pozitia si numarul celor 2 patch-uri ale piesei de domino\n",
    "def get_pieces(image, sol_path):\n",
    "    path = sol_path + '/' + image[:-3] +'txt'\n",
    "    with open (path, 'r') as g:\n",
    "        line1 = g.readline().split(\" \")\n",
    "        line2 = g.readline().split(\" \")\n",
    "        g.close()\n",
    "    return  line1[0], line1[1], line2[0], line2[1]"
   ],
   "metadata": {
    "collapsed": false,
    "ExecuteTime": {
     "end_time": "2023-12-05T20:55:23.447466800Z",
     "start_time": "2023-12-05T20:55:23.425300900Z"
    }
   },
   "id": "9ea93593d13289f2"
  },
  {
   "cell_type": "code",
   "execution_count": 47,
   "outputs": [],
   "source": [
    "# extrag punctele aferente unei pozitii\n",
    "def get_points_piece_position(piece_poz):\n",
    "    piece_point = 0\n",
    "    for special_patch in special_patches:\n",
    "        if piece_poz == special_patch[0]:\n",
    "            piece_point = special_patch[1]\n",
    "    return piece_point"
   ],
   "metadata": {
    "collapsed": false,
    "ExecuteTime": {
     "end_time": "2023-12-05T20:55:24.605431500Z",
     "start_time": "2023-12-05T20:55:24.595350700Z"
    }
   },
   "id": "c4bd51a41a41bcee"
  },
  {
   "cell_type": "code",
   "execution_count": 48,
   "outputs": [],
   "source": [
    "# adaug scorul in fisier\n",
    "def write_score(image, scor, sol_path):\n",
    "    path = sol_path + '/' + image[:-3] +'txt'\n",
    "    with open (path, 'a') as g:\n",
    "        scor = str(scor)\n",
    "        g.write(scor)\n",
    "        g.close()"
   ],
   "metadata": {
    "collapsed": false,
    "ExecuteTime": {
     "end_time": "2023-12-05T20:55:27.013370600Z",
     "start_time": "2023-12-05T20:55:26.991717600Z"
    }
   },
   "id": "b2d3ada51cd8fd97"
  },
  {
   "cell_type": "code",
   "execution_count": 49,
   "outputs": [],
   "source": [
    "# task 3 - functie ce determina punctajul unui joc\n",
    "def get_game_score(game_number, img_path, sol_path):\n",
    "    global score_route, special_patches\n",
    "    \n",
    "    player_1_route_poz = 0\n",
    "    player_2_route_poz = 0\n",
    "    \n",
    "    file = '{gn}_mutari.txt'.format(gn=game_number)\n",
    "    path = img_path + '/' + file\n",
    "    with open (path, 'r') as f:\n",
    "        for i in range(20):\n",
    "            line = f.readline().split(\" \")\n",
    "            image = line[0]\n",
    "            player = line[1]\n",
    "    \n",
    "            current_player_score = 0\n",
    "            \n",
    "            poz1, nr1, poz2, nr2 = get_pieces(image, sol_path)\n",
    "            \n",
    "            point_piece1 = get_points_piece_position(poz1)\n",
    "            point_piece2 = get_points_piece_position(poz2)\n",
    "            \n",
    "            # daca punem un domino dublu pe un patch special primim dublu puncte\n",
    "            if nr1 == nr2:\n",
    "                if point_piece1 != 0:\n",
    "                    current_player_score = 2*point_piece1\n",
    "                elif point_piece2 != 0:\n",
    "                    current_player_score = 2*point_piece2\n",
    "            else:\n",
    "                if point_piece1 != 0:\n",
    "                    current_player_score += point_piece1\n",
    "                elif point_piece2 != 0:\n",
    "                    current_player_score += point_piece2\n",
    "                    \n",
    "            # vedem ce player joaca \n",
    "            if player[-2] == \"1\":\n",
    "                if str(score_route[player_1_route_poz]) == nr1[0] or str(score_route[player_1_route_poz]) == nr2[0]:\n",
    "                    current_player_score += 3\n",
    "\n",
    "                if str(score_route[player_2_route_poz]) == nr1[0] or str(score_route[player_2_route_poz]) == nr2[0]:\n",
    "                   player_2_route_poz += 3\n",
    "            else:\n",
    "                if str(score_route[player_2_route_poz]) == nr1[0] or str(score_route[player_2_route_poz]) == nr2[0]:\n",
    "                    current_player_score += 3\n",
    "\n",
    "                if str(score_route[player_1_route_poz]) == nr1[0] or str(score_route[player_1_route_poz]) == nr2[0]:\n",
    "                   player_1_route_poz += 3\n",
    "            \n",
    "            # adaug punctele pozitiei player-ului de pe traseul de joc\n",
    "            if player[-2] == \"1\":\n",
    "                player_1_route_poz += current_player_score\n",
    "            else:\n",
    "                player_2_route_poz += current_player_score\n",
    "\n",
    "            # scriem scorul in fisier\n",
    "            write_score(image, current_player_score, sol_path)"
   ],
   "metadata": {
    "collapsed": false,
    "ExecuteTime": {
     "end_time": "2023-12-05T20:55:28.378354Z",
     "start_time": "2023-12-05T20:55:28.375449100Z"
    }
   },
   "id": "4861cdad941488f3"
  },
  {
   "cell_type": "code",
   "execution_count": 50,
   "outputs": [],
   "source": [
    "# apelez functia pentru toate cele 5 jocuri\n",
    "for i in range(5):\n",
    "    get_game_score(i+1, 'antrenare', 'verificare/antrenare')"
   ],
   "metadata": {
    "collapsed": false,
    "ExecuteTime": {
     "end_time": "2023-12-05T20:55:31.331194800Z",
     "start_time": "2023-12-05T20:55:31.196804700Z"
    }
   },
   "id": "e445d7490085cbd3"
  },
  {
   "cell_type": "code",
   "execution_count": null,
   "outputs": [],
   "source": [
    "# if necessary\n",
    "# how i identified the coordinates of the game board \n",
    "# Corners: \n",
    "# Bottom left: [ 786 2877]\n",
    "# Bottom right: [2424 2862]\n",
    "# Top left: [ 777 1211]\n",
    "# Top right: [2413 1212]\n",
    "\n",
    "# image = cv.imread('antrenare/1_01.jpg')\n",
    "# \n",
    "# image = cv.cvtColor(image,cv.COLOR_BGR2GRAY)\n",
    "# \n",
    "# image_m_blur = cv.medianBlur(image,3)\n",
    "# show_image(\"Median Blur\",image_m_blur)\n",
    "# \n",
    "# image_g_blur = cv.GaussianBlur(image, (0,0), 7) \n",
    "# show_image(\"Gaussian Blur\", image_g_blur)\n",
    "# \n",
    "# image_sharpened = cv.addWeighted(image_m_blur, 1.5, image_g_blur, -0.5, 0)\n",
    "# show_image('image_sharpened',image_sharpened)\n",
    "# _, thresh = cv.threshold(image_sharpened, 30, 200, cv.THRESH_BINARY)\n",
    "# \n",
    "# kernel = np.ones((5,5), np.uint8)\n",
    "# thresh = cv.erode(thresh, kernel)\n",
    "# show_image('image_thresholded',thresh)\n",
    "# \n",
    "# edges =  cv.Canny(thresh ,300,400)\n",
    "# show_image('edges',edges)\n",
    "# \n",
    "# contours, _ = cv.findContours(edges,  cv.RETR_EXTERNAL, cv.CHAIN_APPROX_SIMPLE)\n",
    "# max_area = 0\n",
    "#     \n",
    "# for i in range(len(contours)):\n",
    "#     if(len(contours[i]) >3):\n",
    "#         possible_top_left = None\n",
    "#         possible_bottom_right = None\n",
    "#         for point in contours[i].squeeze():\n",
    "#             if possible_top_left is None or point[0] + point[1] < possible_top_left[0] + possible_top_left[1]:\n",
    "#                 possible_top_left = point\n",
    "# \n",
    "#             if possible_bottom_right is None or point[0] + point[1] > possible_bottom_right[0] + possible_bottom_right[1] :\n",
    "#                 possible_bottom_right = point\n",
    "# \n",
    "#         diff = np.diff(contours[i].squeeze(), axis = 1)\n",
    "#         possible_top_right = contours[i].squeeze()[np.argmin(diff)]\n",
    "#         possible_bottom_left = contours[i].squeeze()[np.argmax(diff)]\n",
    "#         if cv.contourArea(np.array([[possible_top_left],[possible_top_right],[possible_bottom_right],[possible_bottom_left]])) > max_area:\n",
    "#             max_area = cv.contourArea(np.array([[possible_top_left],[possible_top_right],[possible_bottom_right],[possible_bottom_left]]))\n",
    "#             top_left = possible_top_left\n",
    "#             bottom_right = possible_bottom_right\n",
    "#             top_right = possible_top_right\n",
    "#             bottom_left = possible_bottom_left\n",
    "#             \n",
    "# \n",
    "# width = 2000\n",
    "# height = 2000\n",
    "# # bottom_right[0] = top_right[0]\n",
    "# # bottom_right[1] = bottom_left[1]\n",
    "# \n",
    "# image_copy = cv.cvtColor(image.copy(),cv.COLOR_GRAY2BGR)\n",
    "# cv.circle(image_copy,tuple(top_left),20,(0,0,255),-1)\n",
    "# cv.circle(image_copy,tuple(top_right),20,(0,0,255),-1)\n",
    "# cv.circle(image_copy,tuple(bottom_left),20,(0,0,255),-1)\n",
    "# cv.circle(image_copy,tuple(bottom_right),20,(0,0,255),-1)\n",
    "# show_image(\"detected corners\",image_copy)\n",
    "# \n",
    "# print(\"Corners: \")\n",
    "# print(\"Bottom left: \" + str(bottom_left))\n",
    "# print(\"Bottom right: \" + str(bottom_right))\n",
    "# print(\"Top left: \" + str(top_left))\n",
    "# print(\"Top right: \" + str(top_right))\n",
    "# \n",
    "# puzzle = np.array([top_left, top_right, bottom_right, bottom_left], dtype='float32')\n",
    "# destination = np.array([[0,0], [width, 0], [width, height], [0, height]], dtype='float32')\n",
    "# \n",
    "# M = cv.getPerspectiveTransform(puzzle, destination)\n",
    "# result = cv.warpPerspective(image, M, (width, height))\n",
    "# \n",
    "# show_image(\"rezultat\", result)"
   ],
   "metadata": {
    "collapsed": false
   },
   "id": "fb78f1ad08732912"
  }
 ],
 "metadata": {
  "kernelspec": {
   "display_name": "Python 3",
   "language": "python",
   "name": "python3"
  },
  "language_info": {
   "codemirror_mode": {
    "name": "ipython",
    "version": 2
   },
   "file_extension": ".py",
   "mimetype": "text/x-python",
   "name": "python",
   "nbconvert_exporter": "python",
   "pygments_lexer": "ipython2",
   "version": "2.7.6"
  }
 },
 "nbformat": 4,
 "nbformat_minor": 5
}
